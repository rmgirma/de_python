{
  "cells": [
    {
      "cell_type": "markdown",
      "metadata": {
        "id": "ZINQrww1EboC"
      },
      "source": [
        "**Problem 1**\n",
        "\n",
        "Import Numpy as np"
      ]
    },
    {
      "cell_type": "code",
      "execution_count": 2,
      "metadata": {
        "id": "hOtevzjWrR-R"
      },
      "outputs": [],
      "source": [
        "\n",
        "import numpy as np  \n"
      ]
    },
    {
      "cell_type": "markdown",
      "metadata": {
        "id": "K57VSkdZOhlC"
      },
      "source": [
        "**Problem 2**\n",
        "\n",
        "Create a 1D array of numbers from 0 to 9."
      ]
    },
    {
      "cell_type": "code",
      "execution_count": 28,
      "metadata": {
        "id": "EBKnp8nDOpq2"
      },
      "outputs": [
        {
          "name": "stdout",
          "output_type": "stream",
          "text": [
            "[0 1 2 3 4 5 6 7 8 9]\n"
          ]
        }
      ],
      "source": [
        "arr = np.arange(0,10)\n",
        "print(arr) "
      ]
    },
    {
      "cell_type": "markdown",
      "metadata": {
        "id": "DpYFqU4XOwDO"
      },
      "source": [
        "**Problem 3**\n",
        "\n",
        "Create a 3×3 numpy array of all True’s."
      ]
    },
    {
      "cell_type": "code",
      "execution_count": 23,
      "metadata": {
        "id": "40dFQCLAO-fT"
      },
      "outputs": [
        {
          "name": "stdout",
          "output_type": "stream",
          "text": [
            "[[ True  True  True  True]\n",
            " [ True  True  True  True]\n",
            " [ True  True  True  True]\n",
            " [ True  True  True  True]]\n"
          ]
        }
      ],
      "source": [
        "arr = np.ones((4, 4), dtype=bool)\n",
        "print(arr)"
      ]
    },
    {
      "cell_type": "markdown",
      "metadata": {
        "id": "r8xDn0etO_Hn"
      },
      "source": [
        "**Problem 4**\n",
        "\n",
        "Extract all odd numbers from arr."
      ]
    },
    {
      "cell_type": "code",
      "execution_count": 24,
      "metadata": {
        "id": "_FeV7PzjPIJ7"
      },
      "outputs": [
        {
          "name": "stdout",
          "output_type": "stream",
          "text": [
            "[1 3 5 7 9]\n"
          ]
        }
      ],
      "source": [
        "arr = np.array([0, 1, 2, 3, 4, 5, 6, 7, 8, 9])\n",
        "arr_odd = arr[arr %2 ==1]\n",
        "print(arr_odd)"
      ]
    },
    {
      "cell_type": "markdown",
      "metadata": {
        "id": "PMDxdKKvPaQy"
      },
      "source": [
        "**Problem 5**\n",
        "\n",
        "Replace all odd numbers in arr with -1."
      ]
    },
    {
      "cell_type": "code",
      "execution_count": 30,
      "metadata": {
        "id": "utoQqbgNPj72"
      },
      "outputs": [
        {
          "name": "stdout",
          "output_type": "stream",
          "text": [
            "[ 0 -1  2 -1  4 -1  6 -1  8 -1]\n"
          ]
        }
      ],
      "source": [
        "arr = np.array([0, 1, 2, 3, 4, 5, 6, 7, 8, 9])\n",
        "arr[arr % 2 == 1] = -1\n",
        "print(arr)"
      ]
    },
    {
      "cell_type": "markdown",
      "metadata": {
        "id": "KXZ1Hw1WP0fk"
      },
      "source": [
        "**Problem 6**\n",
        "\n",
        "Convert a 1D array to a 2D array with 2 rows."
      ]
    },
    {
      "cell_type": "code",
      "execution_count": 63,
      "metadata": {
        "id": "9Vgx6sjTP8kj"
      },
      "outputs": [
        {
          "name": "stdout",
          "output_type": "stream",
          "text": [
            "[[0 1 2 3 4]\n",
            " [5 6 7 8 9]]\n"
          ]
        }
      ],
      "source": [
        "\n",
        "arr = np.arange(10)\n",
        "# np.reshape(arr, (3, 3))\n",
        "print(np.reshape(arr, (2, 5)))"
      ]
    },
    {
      "cell_type": "markdown",
      "metadata": {
        "id": "oeZS60tuQB-L"
      },
      "source": [
        "**Problem 7** \n",
        "\n",
        "Stack arrays a and b vertically."
      ]
    },
    {
      "cell_type": "code",
      "execution_count": 30,
      "metadata": {
        "id": "xdIpealnQFnN"
      },
      "outputs": [
        {
          "name": "stdout",
          "output_type": "stream",
          "text": [
            "[[0 1 2 3 4]\n",
            " [5 6 7 8 9]]\n",
            "[[1 1]\n",
            " [1 1]\n",
            " [1 1]\n",
            " [1 1]\n",
            " [1 1]]\n",
            "[[0 1 2 3 4]\n",
            " [5 6 7 8 9]\n",
            " [1 1 1 1 1]\n",
            " [1 1 1 1 1]]\n"
          ]
        }
      ],
      "source": [
        "a = np.arange(10).reshape(2,-1)\n",
        "b = np.repeat(1, 10).reshape(2,-1)\n",
        "c = np.vstack((a, b))\n",
        "print(a)\n",
        "print(np.transpose(b))\n",
        "print(c)"
      ]
    },
    {
      "cell_type": "markdown",
      "metadata": {
        "id": "zK-hXr8TQcfr"
      },
      "source": [
        "**Problem 8**\n",
        "\n",
        "Stack the arrays a and b horizontally."
      ]
    },
    {
      "cell_type": "code",
      "execution_count": 31,
      "metadata": {
        "id": "ZNxJNgcyQg7T"
      },
      "outputs": [
        {
          "name": "stdout",
          "output_type": "stream",
          "text": [
            "[[0 1 2 3 4]\n",
            " [5 6 7 8 9]]\n",
            "[[1 1]\n",
            " [1 1]\n",
            " [1 1]\n",
            " [1 1]\n",
            " [1 1]]\n",
            "[[0 1 2 3 4 1 1 1 1 1]\n",
            " [5 6 7 8 9 1 1 1 1 1]]\n"
          ]
        }
      ],
      "source": [
        "a = np.arange(10).reshape(2,-1)\n",
        "b = np.repeat(1, 10).reshape(2,-1)\n",
        "c = np.hstack((a, b))\n",
        "print(a)\n",
        "print(np.transpose(b))\n",
        "print(c)"
      ]
    },
    {
      "cell_type": "markdown",
      "metadata": {
        "id": "tUcrp_8tQwra"
      },
      "source": [
        "**Problem 9**\n",
        "\n",
        "Get the common items between a and b."
      ]
    },
    {
      "cell_type": "code",
      "execution_count": 36,
      "metadata": {
        "id": "H-HeXTDAQ-Ia"
      },
      "outputs": [
        {
          "name": "stdout",
          "output_type": "stream",
          "text": [
            "[2 4]\n"
          ]
        }
      ],
      "source": [
        "a = np.array([1,2,3,2,3,4,3,4,5,6])\n",
        "b = np.array([7,2,10,2,7,4,9,4,9,8])\n",
        "c = np.intersect1d(a, b)\n",
        "# d= np.array_equal(a, b)\n",
        "print(c)\n"
      ]
    },
    {
      "cell_type": "markdown",
      "metadata": {
        "id": "QJZuspVHREN2"
      },
      "source": [
        "**Problem 10**\n",
        "\n",
        "From array a remove all items present in array b"
      ]
    },
    {
      "cell_type": "code",
      "execution_count": 42,
      "metadata": {
        "id": "Si34slDHRI3Z"
      },
      "outputs": [
        {
          "name": "stdout",
          "output_type": "stream",
          "text": [
            "[1 2 3 4]\n"
          ]
        }
      ],
      "source": [
        "a = np.array([1,2,3,4,5,5])\n",
        "b = np.array([5,6,7,8,9])\n",
        "c = np.setdiff1d(a ,b)\n",
        "print(c)"
      ]
    },
    {
      "cell_type": "markdown",
      "metadata": {
        "id": "Kds0TCX9RP17"
      },
      "source": [
        "**Problem 11**\n",
        "\n",
        "Get the positions where elements of a and b match"
      ]
    },
    {
      "cell_type": "code",
      "execution_count": 77,
      "metadata": {
        "id": "IfHkCtxBRToJ"
      },
      "outputs": [
        {
          "name": "stdout",
          "output_type": "stream",
          "text": [
            "(array([1, 3, 5, 7], dtype=int64),)\n"
          ]
        }
      ],
      "source": [
        "a = np.array([1,2,3,2,3,4,3,4,5,6])\n",
        "b = np.array([7,2,10,2,7,4,9,4,9,8])\n",
        "# c = np.intersect1d(a, b, return_indices=True)[0]  #matching values\n",
        "c = np.where(a == b) # matching positions\n",
        "print(c)"
      ]
    },
    {
      "cell_type": "markdown",
      "metadata": {
        "id": "XfB9DvvwRbhI"
      },
      "source": [
        "**Problem 12** \n",
        "\n",
        "Get all items between 5 and 10 from a."
      ]
    },
    {
      "cell_type": "code",
      "execution_count": 79,
      "metadata": {
        "id": "QTVXeUUHRkJW"
      },
      "outputs": [
        {
          "name": "stdout",
          "output_type": "stream",
          "text": [
            "[ 6  9 10]\n"
          ]
        }
      ],
      "source": [
        "a = np.array([2, 6, 1, 9, 10, 3, 27])\n",
        "c = a[(a >= 5) &  (a <= 10)]\n",
        "print(c)"
      ]
    },
    {
      "cell_type": "markdown",
      "metadata": {
        "id": "KfcEtysHRoPx"
      },
      "source": [
        "**Problem 13**\n",
        "\n",
        "Swap columns 1 and 2 in the array arr."
      ]
    },
    {
      "cell_type": "code",
      "execution_count": 15,
      "metadata": {
        "id": "fo33bz2ARx0b"
      },
      "outputs": [
        {
          "name": "stdout",
          "output_type": "stream",
          "text": [
            "[[0 1 2]\n",
            " [3 4 5]\n",
            " [6 7 8]]\n",
            "[[0 3 6]\n",
            " [1 4 7]\n",
            " [2 5 8]]\n"
          ]
        }
      ],
      "source": [
        "arr = np.arange(9).reshape(3,3)\n",
        "print(arr)\n",
        "arr = np.swapaxes(arr, 0, 1)\n",
        "print(arr)                  \n",
        "\n"
      ]
    },
    {
      "cell_type": "markdown",
      "metadata": {
        "id": "e5qFi-P_R18E"
      },
      "source": [
        "**Problem 14**\n",
        "\n",
        "Swap rows 1 and 2 in the array arr."
      ]
    },
    {
      "cell_type": "code",
      "execution_count": 14,
      "metadata": {
        "id": "ieV5B7zYR6KQ"
      },
      "outputs": [
        {
          "name": "stdout",
          "output_type": "stream",
          "text": [
            "[[0 1 2]\n",
            " [3 4 5]\n",
            " [6 7 8]]\n",
            "[[3 4 5]\n",
            " [0 1 2]\n",
            " [6 7 8]]\n"
          ]
        }
      ],
      "source": [
        "arr = np.arange(9).reshape(3,3)\n",
        "print(arr)\n",
        "\n",
        "arr[[1, 0]] = arr[[0, 1]]\n",
        "print(arr)"
      ]
    },
    {
      "cell_type": "markdown",
      "metadata": {
        "id": "ZIY9it8hSArU"
      },
      "source": [
        "**Problem 15**\n",
        "\n",
        "Reverse the rows of a 2D array arr."
      ]
    },
    {
      "cell_type": "code",
      "execution_count": 11,
      "metadata": {
        "id": "hOmvemu-SEsS"
      },
      "outputs": [
        {
          "name": "stdout",
          "output_type": "stream",
          "text": [
            "[[6 7 8]\n",
            " [3 4 5]\n",
            " [0 1 2]]\n"
          ]
        }
      ],
      "source": [
        "arr = np.arange(9).reshape(3,3)\n",
        "a = np.flipud(arr)\n",
        "print(a)\n"
      ]
    },
    {
      "cell_type": "markdown",
      "metadata": {
        "id": "oSgPt_TdSVDy"
      },
      "source": [
        "**Problem 16**\n",
        "\n",
        "Reverse the columns of a 2D array arr."
      ]
    },
    {
      "cell_type": "code",
      "execution_count": 10,
      "metadata": {
        "id": "aWxmDyDISZcD"
      },
      "outputs": [
        {
          "name": "stdout",
          "output_type": "stream",
          "text": [
            "[[2 1 0]\n",
            " [5 4 3]\n",
            " [8 7 6]]\n",
            "[[2 1 0]\n",
            " [5 4 3]\n",
            " [8 7 6]]\n"
          ]
        }
      ],
      "source": [
        "arr = np.arange(9).reshape(3,3)\n",
        "a = arr[:, ::-1]\n",
        "b = np.fliplr(arr)\n",
        "print(a)\n",
        "print(b)"
      ]
    },
    {
      "cell_type": "markdown",
      "metadata": {
        "id": "d2R7iAovSf3I"
      },
      "source": [
        "**Problem 17**\n",
        "\n",
        "Create a 2D array of shape 5x3 to contain random decimal numbers between 5 and 10"
      ]
    },
    {
      "cell_type": "code",
      "execution_count": 31,
      "metadata": {
        "id": "WHHJ70XCSoQw"
      },
      "outputs": [
        {
          "name": "stdout",
          "output_type": "stream",
          "text": [
            "[[6.65972722 7.79557584 7.60409217]\n",
            " [8.88297582 7.56397696 6.64255998]\n",
            " [5.64754984 9.08005104 6.37339463]\n",
            " [7.86037688 8.79446709 5.05979093]\n",
            " [5.69061373 8.31256981 7.30723311]]\n"
          ]
        }
      ],
      "source": [
        "a = np.random.uniform(low=5, high=10, size=(5,3))\n",
        "print(a)\n"
      ]
    },
    {
      "attachments": {},
      "cell_type": "markdown",
      "metadata": {
        "id": "NBCPj9PVSvvS"
      },
      "source": [
        "**Problem 18**\n",
        "\n",
        "Print or show only 3 decimal places of the numpy array rand_arr."
      ]
    },
    {
      "cell_type": "code",
      "execution_count": 90,
      "metadata": {
        "id": "w3LjmoNxS7V9"
      },
      "outputs": [
        {
          "name": "stdout",
          "output_type": "stream",
          "text": [
            "[[0.728 0.668 0.664]\n",
            " [0.708 0.045 0.546]\n",
            " [0.941 0.75  0.192]]\n"
          ]
        }
      ],
      "source": [
        "rand_arr = np.random.rand(3,3)\n",
        "np.set_printoptions(precision=3)\n",
        "print(rand_arr)"
      ]
    }
  ],
  "metadata": {
    "colab": {
      "provenance": []
    },
    "kernelspec": {
      "display_name": "Python 3",
      "name": "python3"
    },
    "language_info": {
      "codemirror_mode": {
        "name": "ipython",
        "version": 3
      },
      "file_extension": ".py",
      "mimetype": "text/x-python",
      "name": "python",
      "nbconvert_exporter": "python",
      "pygments_lexer": "ipython3",
      "version": "3.10.9"
    }
  },
  "nbformat": 4,
  "nbformat_minor": 0
}
